{
 "cells": [
  {
   "cell_type": "code",
   "execution_count": 5,
   "metadata": {},
   "outputs": [
    {
     "name": "stdout",
     "output_type": "stream",
     "text": [
      "Merhaba Yalan Dünya\n"
     ]
    }
   ],
   "source": [
    "print(\"Merhaba Yalan Dünya\")"
   ]
  },
  {
   "cell_type": "code",
   "execution_count": 6,
   "metadata": {},
   "outputs": [
    {
     "name": "stdout",
     "output_type": "stream",
     "text": [
      "ikiyuzelli\n"
     ]
    }
   ],
   "source": [
    "print(\"ikiyuzelli\")"
   ]
  },
  {
   "cell_type": "code",
   "execution_count": 7,
   "metadata": {},
   "outputs": [],
   "source": [
    "from cakemix.excel import readExcel, get_column, plotBarData"
   ]
  },
  {
   "cell_type": "code",
   "execution_count": 8,
   "metadata": {},
   "outputs": [],
   "source": [
    "veri = readExcel(\"C:\\yapayZeka\\datatable_sample.xlsx\",\"Sheet1\")"
   ]
  },
  {
   "cell_type": "code",
   "execution_count": 9,
   "metadata": {},
   "outputs": [
    {
     "name": "stdout",
     "output_type": "stream",
     "text": [
      "[['DataTables Sample', '', '', '', '', ''], ['Name', 'Position', 'Office', 'Age', 'Start date', 'Salary'], ['Airi Satou', 'Accountant', 'Tokyo', 33.0, '2008/11/28', 162700.0], ['Angelica Ramos', 'Chief Executive Officer (CEO)', 'London', 47.0, '2009/10/09', 1200000.0], ['Ashton Cox', 'Junior Technical Author', 'San Francisco', 66.0, '2009/01/12', 86000.0], ['Bradley Greer', 'Software Engineer', 'London', 41.0, '2012/10/13', 132000.0], ['Brenden Wagner', 'Software Engineer', 'San Francisco', 28.0, '2011/06/07', 206850.0], ['Brielle Williamson', 'Integration Specialist', 'New York', 61.0, '2012/12/02', 372000.0], ['Bruno Nash', 'Software Engineer', 'London', 38.0, '2011/05/03', 163500.0], ['Caesar Vance', 'Pre-Sales Support', 'New York', 21.0, '2011/12/12', 106450.0], ['Cara Stevens', 'Sales Assistant', 'New York', 46.0, '2011/12/06', 145600.0], ['Cedric Kelly', 'Senior Javascript Developer', 'Edinburgh', 22.0, '2012/03/29', 433060.0], ['Charde Marshall', 'Regional Director', 'San Francisco', 36.0, '2008/10/16', 470600.0], ['Colleen Hurst', 'Javascript Developer', 'San Francisco', 39.0, '2009/09/15', 205500.0], ['Dai Rios', 'Personnel Lead', 'Edinburgh', 35.0, '2012/09/26', 217500.0], ['Donna Snider', 'Customer Support', 'New York', 27.0, '2011/01/25', 112000.0], ['Doris Wilder', 'Sales Assistant', 'Sidney', 23.0, '2010/09/20', 85600.0], ['Finn Camacho', 'Support Engineer', 'San Francisco', 47.0, '2009/07/07', 87500.0], ['Fiona Green', 'Chief Operating Officer (COO)', 'San Francisco', 48.0, '2010/03/11', 850000.0], ['Garrett Winters', 'Accountant', 'Tokyo', 63.0, '2011/07/25', 170750.0], ['Gavin Cortez', 'Team Leader', 'San Francisco', 22.0, '2008/10/26', 235500.0], ['Gavin Joyce', 'Developer', 'Edinburgh', 42.0, '2010/12/22', 92575.0], ['Gloria Little', 'Systems Administrator', 'New York', 59.0, '2009/04/10', 237500.0], ['Haley Kennedy', 'Senior Marketing Designer', 'London', 43.0, '2012/12/18', 313500.0], ['Hermione Butler', 'Regional Director', 'London', 47.0, '2011/03/21', 356250.0], ['Herrod Chandler', 'Sales Assistant', 'San Francisco', 59.0, '2012/08/06', 137500.0], ['Hope Fuentes', 'Secretary', 'San Francisco', 41.0, '2010/02/12', 109850.0], ['Howard Hatfield', 'Office Manager', 'San Francisco', 51.0, '2008/12/16', 164500.0], ['Jackson Bradshaw', 'Director', 'New York', 65.0, '2008/09/26', 645750.0], ['Jena Gaines', 'Office Manager', 'London', 30.0, '2008/12/19', 90560.0], ['Jenette Caldwell', 'Development Lead', 'New York', 30.0, '2011/09/03', 345000.0], ['Jennifer Acosta', 'Junior Javascript Developer', 'Edinburgh', 43.0, '2013/02/01', 75650.0], ['Jennifer Chang', 'Regional Director', 'Singapore', 28.0, '2010/11/14', 357650.0], ['Jonas Alexander', 'Developer', 'San Francisco', 30.0, '2010/07/14', 86500.0], ['Lael Greer', 'Systems Administrator', 'London', 21.0, '2009/02/27', 103500.0], ['Martena Mccray', 'Post-Sales support', 'Edinburgh', 46.0, '2011/03/09', 324050.0], ['Michael Bruce', 'Javascript Developer', 'Singapore', 29.0, '2011/06/27', 183000.0], ['Michael Silva', 'Marketing Designer', 'London', 66.0, '2012/11/27', 198500.0], ['Michelle House', 'Integration Specialist', 'Sidney', 37.0, '2011/06/02', 95400.0], ['Olivia Liang', 'Support Engineer', 'Singapore', 64.0, '2011/02/03', 234500.0], ['Paul Byrd', 'Chief Financial Officer (CFO)', 'New York', 64.0, '2010/06/09', 725000.0], ['Prescott Bartlett', 'Technical Author', 'London', 27.0, '2011/05/07', 145000.0], ['Quinn Flynn', 'Support Lead', 'Edinburgh', 22.0, '2013/03/03', 342000.0], ['Rhona Davidson', 'Integration Specialist', 'Tokyo', 55.0, '2010/10/14', 327900.0], ['Sakura Yamamoto', 'Support Engineer', 'Tokyo', 37.0, '2009/08/19', 139575.0], ['Serge Baldwin', 'Data Coordinator', 'Singapore', 64.0, '2012/04/09', 138575.0], ['Shad Decker', 'Regional Director', 'Edinburgh', 51.0, '2008/11/13', 183000.0], ['Shou Itou', 'Regional Marketing', 'Tokyo', 20.0, '2011/08/14', 163000.0], ['Sonya Frost', 'Software Engineer', 'Edinburgh', 23.0, '2008/12/13', 103600.0], ['Suki Burks', 'Developer', 'London', 53.0, '2009/10/22', 114500.0], ['Tatyana Fitzpatrick', 'Regional Director', 'London', 19.0, '2010/03/17', 385750.0], ['Thor Walton', 'Developer', 'New York', 61.0, '2013/08/11', 98540.0], ['Tiger Nixon', 'System Architect', 'Edinburgh', 61.0, '2011/04/25', 320800.0], ['Timothy Mooney', 'Office Manager', 'London', 37.0, '2008/12/11', 136200.0], ['Unity Butler', 'Marketing Designer', 'San Francisco', 47.0, '2009/12/09', 85675.0], ['Vivian Harrell', 'Financial Controller', 'San Francisco', 62.0, '2009/02/14', 452500.0], ['Yuri Berry', 'Chief Marketing Officer (CMO)', 'New York', 40.0, '2009/06/25', 675000.0], ['Zenaida Frank', 'Software Engineer', 'New York', 63.0, '2010/01/04', 125250.0], ['Zorita Serrano', 'Software Engineer', 'San Francisco', 56.0, '2012/06/01', 115000.0]]\n"
     ]
    }
   ],
   "source": [
    "print(veri)"
   ]
  },
  {
   "cell_type": "code",
   "execution_count": 10,
   "metadata": {},
   "outputs": [],
   "source": [
    "isim = get_column(veri,0)"
   ]
  },
  {
   "cell_type": "code",
   "execution_count": 11,
   "metadata": {},
   "outputs": [],
   "source": [
    "maas= get_column(veri,5)"
   ]
  },
  {
   "cell_type": "code",
   "execution_count": 12,
   "metadata": {},
   "outputs": [
    {
     "data": {
      "text/plain": [
       "['Airi Satou',\n",
       " 'Angelica Ramos',\n",
       " 'Ashton Cox',\n",
       " 'Bradley Greer',\n",
       " 'Brenden Wagner',\n",
       " 'Brielle Williamson',\n",
       " 'Bruno Nash',\n",
       " 'Caesar Vance',\n",
       " 'Cara Stevens',\n",
       " 'Cedric Kelly',\n",
       " 'Charde Marshall',\n",
       " 'Colleen Hurst',\n",
       " 'Dai Rios',\n",
       " 'Donna Snider',\n",
       " 'Doris Wilder',\n",
       " 'Finn Camacho',\n",
       " 'Fiona Green',\n",
       " 'Garrett Winters',\n",
       " 'Gavin Cortez',\n",
       " 'Gavin Joyce',\n",
       " 'Gloria Little',\n",
       " 'Haley Kennedy',\n",
       " 'Hermione Butler',\n",
       " 'Herrod Chandler',\n",
       " 'Hope Fuentes',\n",
       " 'Howard Hatfield',\n",
       " 'Jackson Bradshaw',\n",
       " 'Jena Gaines',\n",
       " 'Jenette Caldwell',\n",
       " 'Jennifer Acosta',\n",
       " 'Jennifer Chang',\n",
       " 'Jonas Alexander',\n",
       " 'Lael Greer',\n",
       " 'Martena Mccray',\n",
       " 'Michael Bruce',\n",
       " 'Michael Silva',\n",
       " 'Michelle House',\n",
       " 'Olivia Liang',\n",
       " 'Paul Byrd',\n",
       " 'Prescott Bartlett',\n",
       " 'Quinn Flynn',\n",
       " 'Rhona Davidson',\n",
       " 'Sakura Yamamoto',\n",
       " 'Serge Baldwin',\n",
       " 'Shad Decker',\n",
       " 'Shou Itou',\n",
       " 'Sonya Frost',\n",
       " 'Suki Burks',\n",
       " 'Tatyana Fitzpatrick',\n",
       " 'Thor Walton',\n",
       " 'Tiger Nixon',\n",
       " 'Timothy Mooney',\n",
       " 'Unity Butler',\n",
       " 'Vivian Harrell',\n",
       " 'Yuri Berry',\n",
       " 'Zenaida Frank',\n",
       " 'Zorita Serrano']"
      ]
     },
     "execution_count": 12,
     "metadata": {},
     "output_type": "execute_result"
    }
   ],
   "source": [
    "isim[2:]"
   ]
  },
  {
   "cell_type": "code",
   "execution_count": 13,
   "metadata": {},
   "outputs": [
    {
     "data": {
      "text/plain": [
       "[162700.0,\n",
       " 1200000.0,\n",
       " 86000.0,\n",
       " 132000.0,\n",
       " 206850.0,\n",
       " 372000.0,\n",
       " 163500.0,\n",
       " 106450.0,\n",
       " 145600.0,\n",
       " 433060.0,\n",
       " 470600.0,\n",
       " 205500.0,\n",
       " 217500.0,\n",
       " 112000.0,\n",
       " 85600.0,\n",
       " 87500.0,\n",
       " 850000.0,\n",
       " 170750.0,\n",
       " 235500.0,\n",
       " 92575.0,\n",
       " 237500.0,\n",
       " 313500.0,\n",
       " 356250.0,\n",
       " 137500.0,\n",
       " 109850.0,\n",
       " 164500.0,\n",
       " 645750.0,\n",
       " 90560.0,\n",
       " 345000.0,\n",
       " 75650.0,\n",
       " 357650.0,\n",
       " 86500.0,\n",
       " 103500.0,\n",
       " 324050.0,\n",
       " 183000.0,\n",
       " 198500.0,\n",
       " 95400.0,\n",
       " 234500.0,\n",
       " 725000.0,\n",
       " 145000.0,\n",
       " 342000.0,\n",
       " 327900.0,\n",
       " 139575.0,\n",
       " 138575.0,\n",
       " 183000.0,\n",
       " 163000.0,\n",
       " 103600.0,\n",
       " 114500.0,\n",
       " 385750.0,\n",
       " 98540.0,\n",
       " 320800.0,\n",
       " 136200.0,\n",
       " 85675.0,\n",
       " 452500.0,\n",
       " 675000.0,\n",
       " 125250.0,\n",
       " 115000.0]"
      ]
     },
     "execution_count": 13,
     "metadata": {},
     "output_type": "execute_result"
    }
   ],
   "source": [
    "maas[2:]"
   ]
  },
  {
   "cell_type": "code",
   "execution_count": 14,
   "metadata": {},
   "outputs": [
    {
     "data": {
      "image/png": "[encoded data removed]",
      "text/plain": [
       "<Figure size 432x288 with 1 Axes>"
      ]
     },
     "metadata": {
      "needs_background": "light"
     },
     "output_type": "display_data"
    }
   ],
   "source": [
    "# grafigini ciz\n",
    "plotBarData(isim[2:],maas[2:],\"Maas\",\"Isim\")"
   ]
  },
  {
   "cell_type": "code",
   "execution_count": 22,
   "metadata": {},
   "outputs": [],
   "source": [
    "yuksekMaaslilar = []\n",
    "yuksekMaaslilarIsmi = []\n",
    "\n",
    "for i in range(2,len(maas),1):\n",
    "    if maas[i]>700000:\n",
    "        yuksekMaaslilar.append(maas[i])\n",
    "        yuksekMaaslilarIsmi.append(isim[i])"
   ]
  },
  {
   "cell_type": "code",
   "execution_count": 23,
   "metadata": {},
   "outputs": [
    {
     "data": {
      "text/plain": [
       "[1200000.0, 850000.0, 725000.0]"
      ]
     },
     "execution_count": 23,
     "metadata": {},
     "output_type": "execute_result"
    }
   ],
   "source": [
    "yuksekMaaslilar"
   ]
  },
  {
   "cell_type": "code",
   "execution_count": 24,
   "metadata": {},
   "outputs": [
    {
     "data": {
      "text/plain": [
       "['Angelica Ramos', 'Fiona Green', 'Paul Byrd']"
      ]
     },
     "execution_count": 24,
     "metadata": {},
     "output_type": "execute_result"
    }
   ],
   "source": [
    "yuksekMaaslilarIsmi"
   ]
  },
  {
   "cell_type": "code",
   "execution_count": 25,
   "metadata": {},
   "outputs": [
    {
     "data": {
      "image/png": "[encoded data removed]",
      "text/plain": [
       "<Figure size 432x288 with 1 Axes>"
      ]
     },
     "metadata": {
      "needs_background": "light"
     },
     "output_type": "display_data"
    }
   ],
   "source": [
    "# grafigini ciz\n",
    "plotBarData(yuksekMaaslilarIsmi,yuksekMaaslilar,\"Maaslar\",\"Isimler\")"
   ]
  },
  {
   "cell_type": "code",
   "execution_count": 26,
   "metadata": {},
   "outputs": [
    {
     "data": {
      "text/plain": [
       "75650.0"
      ]
     },
     "execution_count": 26,
     "metadata": {},
     "output_type": "execute_result"
    }
   ],
   "source": [
    "min(maas[2:])"
   ]
  },
  {
   "cell_type": "code",
   "execution_count": 33,
   "metadata": {},
   "outputs": [
    {
     "data": {
      "image/png": "[encoded data removed]",
      "text/plain": [
       "<Figure size 432x288 with 1 Axes>"
      ]
     },
     "metadata": {
      "needs_background": "light"
     },
     "output_type": "display_data"
    }
   ],
   "source": [
    "dusukMaaslilar=[]\n",
    "dusukMaaslilarIsmi = []\n",
    "\n",
    "for i in range(2,len(maas),1):\n",
    "    if maas[i]<90000:\n",
    "        dusukMaaslilar.append(maas[i])\n",
    "        dusukMaaslilarIsmi.append(isim[i])\n",
    "# grafigini ciz\n",
    "plotBarData(dusukMaaslilarIsmi,dusukMaaslilar,\"Maas\",\"Isim\")"
   ]
  },
  {
   "cell_type": "code",
   "execution_count": 34,
   "metadata": {},
   "outputs": [
    {
     "data": {
      "text/plain": [
       "[86000.0, 85600.0, 87500.0, 75650.0, 86500.0, 85675.0]"
      ]
     },
     "execution_count": 34,
     "metadata": {},
     "output_type": "execute_result"
    }
   ],
   "source": [
    "dusukMaaslilar"
   ]
  },
  {
   "cell_type": "code",
   "execution_count": null,
   "metadata": {},
   "outputs": [],
   "source": []
  }
 ],
 "metadata": {
  "kernelspec": {
   "display_name": "Python 3",
   "language": "python",
   "name": "python3"
  },
  "language_info": {
   "codemirror_mode": {
    "name": "ipython",
    "version": 3
   },
   "file_extension": ".py",
   "mimetype": "text/x-python",
   "name": "python",
   "nbconvert_exporter": "python",
   "pygments_lexer": "ipython3",
   "version": "3.7.4"
  }
 },
 "nbformat": 4,
 "nbformat_minor": 2
}
